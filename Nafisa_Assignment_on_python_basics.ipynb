{
  "nbformat": 4,
  "nbformat_minor": 0,
  "metadata": {
    "colab": {
      "provenance": [],
      "authorship_tag": "ABX9TyPJw/BaY+0KqjGcM/+3V416",
      "include_colab_link": true
    },
    "kernelspec": {
      "name": "python3",
      "display_name": "Python 3"
    },
    "language_info": {
      "name": "python"
    }
  },
  "cells": [
    {
      "cell_type": "markdown",
      "metadata": {
        "id": "view-in-github",
        "colab_type": "text"
      },
      "source": [
        "<a href=\"https://colab.research.google.com/github/NafisaTabassum300/Python-Basics-ASDS-JU-/blob/main/Nafisa_Assignment_on_python_basics.ipynb\" target=\"_parent\"><img src=\"https://colab.research.google.com/assets/colab-badge.svg\" alt=\"Open In Colab\"/></a>"
      ]
    },
    {
      "cell_type": "markdown",
      "source": [
        "## Name: Nafisa Tabassum\n",
        "# Student ID: 20229035\n",
        "9th Batch, ASDS, JU."
      ],
      "metadata": {
        "id": "-syoXheTiTqE"
      }
    },
    {
      "cell_type": "markdown",
      "source": [
        "***1. Write a Python program to count the number of characters (character frequency) in a string.***\n",
        "\n",
        "\n"
      ],
      "metadata": {
        "id": "vF8oBc1nFui-"
      }
    },
    {
      "cell_type": "code",
      "execution_count": null,
      "metadata": {
        "colab": {
          "base_uri": "https://localhost:8080/"
        },
        "id": "lyuJNPZRwdXv",
        "outputId": "9dab54b1-9397-48f3-878d-7bb5951401ef"
      },
      "outputs": [
        {
          "output_type": "stream",
          "name": "stdout",
          "text": [
            "Your input string =google\n",
            "{'g': 2, 'o': 2, 'l': 1, 'e': 1}\n"
          ]
        }
      ],
      "source": [
        "sample = input(\"Your input string =\")\n",
        "character_frequency = {}        #An empty dictionary is assigned to store the frequency of each character in the input string.\n",
        "for n in sample:                # for loop will iterate over each character of the input \n",
        "  if n in character_frequency:\n",
        "    character_frequency[n]+=1   #Checks if the current character n is already a key in the character_frequency dictionary. \n",
        "                                #If it is, the code increments the corresponding value by 1 using the += operator.\n",
        "    \n",
        "  else:\n",
        "    character_frequency[n]=1\n",
        "print(character_frequency)"
      ]
    },
    {
      "cell_type": "markdown",
      "source": [],
      "metadata": {
        "id": "z3aioBxvVoP4"
      }
    },
    {
      "cell_type": "markdown",
      "source": [
        "***2. Write a Python program to check if a given key already exists in a dictionary ***"
      ],
      "metadata": {
        "id": "XoHBxl05VtqX"
      }
    },
    {
      "cell_type": "code",
      "source": [
        "existing_dict= {'g': 2, 'o': 2, 'l': 1, 'e': 1}\n",
        "key = input(\"Input your key: \")\n",
        "if key in existing_dict:     #Checks if the key entered by the user is present in the dictionary existing_dict \n",
        "  print(key, 'already exists in the dictionary')\n",
        "else:\n",
        "  print(key, 'does not exist in the dictionary')"
      ],
      "metadata": {
        "colab": {
          "base_uri": "https://localhost:8080/"
        },
        "id": "8v3h1YSRVx2m",
        "outputId": "c15f0d48-cc31-449c-f7bb-95cfaa29db71"
      },
      "execution_count": null,
      "outputs": [
        {
          "output_type": "stream",
          "name": "stdout",
          "text": [
            "Input your key: e\n",
            "e already exists in the dictionary\n"
          ]
        }
      ]
    },
    {
      "cell_type": "markdown",
      "source": [
        "Here, difference between question no. 1 and 2 is, in the 1st question, we had to check each of the charcters of the key and make some increament. So, we have used for loop there. in the second problem, it's a direct if/else problem,  no iteration is needed."
      ],
      "metadata": {
        "id": "gkaID2X9JA9b"
      }
    },
    {
      "cell_type": "markdown",
      "source": [
        "***3. Write a Python program that accepts a sequence of comma-separated numbers from the\n",
        "user and generates a list and a tuple of those numbers.***"
      ],
      "metadata": {
        "id": "SS9jJahnJjAC"
      }
    },
    {
      "cell_type": "code",
      "source": [
        "data = input('Input some numbers seperated by comma :  ')\n",
        "\n",
        "data_list =  data.split(',')\n",
        "data_tuple = tuple(data_list)\n",
        "\n",
        "print('Given data converted to list: ', data_list)\n",
        "print('Given data converted to tupple: ', data_tuple)"
      ],
      "metadata": {
        "colab": {
          "base_uri": "https://localhost:8080/"
        },
        "id": "_8b8m8uvJ0Aa",
        "outputId": "b4c22097-3c84-4feb-bcb5-c2ac878af9f5"
      },
      "execution_count": null,
      "outputs": [
        {
          "output_type": "stream",
          "name": "stdout",
          "text": [
            "Input some numbers seperated by comma :  1,5,7,23\n",
            "Given data converted to list:  ['1', '5', '7', '23']\n",
            "Given data converted to tupple:  ('1', '5', '7', '23')\n"
          ]
        }
      ]
    },
    {
      "cell_type": "markdown",
      "source": [
        "***4. Write a Python program to calculate the number of days between two dates.***"
      ],
      "metadata": {
        "id": "sdP6EI189NEB"
      }
    },
    {
      "cell_type": "code",
      "source": [
        "from datetime import date\n",
        "\n",
        "year1 = int(input(\"Input your 1st year: \"))  #input strings are converted to integer\n",
        "month1 = int(input(\"Input your 1st month (values should be in between 1 to 12): \"))\n",
        "day1 = int(input(\"Input your 1st day (values should be in between 1 to 31): \"))\n",
        "date1 = date(year1, month1, day1)            # Creates a date object for the first date using the date() function from the datetime library.\n",
        "\n",
        "year2 = int(input(\"Input your 2nd year: \"))\n",
        "month2 = int(input(\"Input your 2nd month (values should be in between 1 to 12): \"))\n",
        "day2 = int(input(\"Input your 2nd day (values should be in between 1 to 31): \"))\n",
        "date2 = date(year2, month2, day2)\n",
        "\n",
        "difference = date1 - date2         \n",
        "day_difference = abs(difference.days)      #difference will be shown as absolute number of whole days.\n",
        "\n",
        "print(\"Difference between the two dates,\", date1, \"&\", date2, \"are \", day_difference, \"days\")"
      ],
      "metadata": {
        "id": "bLA-BsRl9evG",
        "outputId": "b9e82226-1663-460f-dcda-6058731d7cf6",
        "colab": {
          "base_uri": "https://localhost:8080/"
        }
      },
      "execution_count": 8,
      "outputs": [
        {
          "output_type": "stream",
          "name": "stdout",
          "text": [
            "Input your 1st year: 2014\n",
            "Input your 1st month (values should be in between 1 to 12): 7\n",
            "Input your 1st day (values should be in between 1 to 31): 2\n",
            "Input your 2nd year: 2014\n",
            "Input your 2nd month (values should be in between 1 to 12): 7\n",
            "Input your 2nd day (values should be in between 1 to 31): 11\n",
            "Difference between the two dates, 2014-07-02 & 2014-07-11 are  9 days\n"
          ]
        }
      ]
    },
    {
      "cell_type": "markdown",
      "source": [
        "***5. Write a Python program to solve (x + y) * (x+y)***"
      ],
      "metadata": {
        "id": "K6oiDRhQfFt4"
      }
    },
    {
      "cell_type": "code",
      "source": [
        "x = int(input(\"x = \"))\n",
        "y = int(input(\"y = \"))\n",
        "\n",
        "result = (x+y) * (x+y)\n",
        "\n",
        "print(\"(\",x,'+',y,\")^2 = \", result)"
      ],
      "metadata": {
        "colab": {
          "base_uri": "https://localhost:8080/"
        },
        "id": "4dJVNEVgfOux",
        "outputId": "64633b6e-d46f-4c47-b19c-4932ff504140"
      },
      "execution_count": 10,
      "outputs": [
        {
          "output_type": "stream",
          "name": "stdout",
          "text": [
            "x = 4\n",
            "y = 3\n",
            "( 4 + 3 )^2 =  49\n"
          ]
        }
      ]
    },
    {
      "cell_type": "markdown",
      "source": [
        "***6. Write a Python program to compute the future value of a specified principal amount, rate of interest, and number of years.***"
      ],
      "metadata": {
        "id": "UuDWY9p_kIxo"
      }
    },
    {
      "cell_type": "code",
      "source": [
        "#Considering compound rate of interest\n",
        "\n",
        "amt = float(input(\"Input present amount: \"))\n",
        "interest = float(input(\"Input interest rate (in percent): \"))\n",
        "years = int(input(\"Input number of years: \"))\n",
        "\n",
        "future_value = amt*(1+ (interest)/100)**years   #for simple rate of interest, the formula will be amt*(1+(interest*years)/100)\n",
        "future_value = round(future_value,2)\n",
        "\n",
        "print(\"Future value of given amount is = \", future_value)"
      ],
      "metadata": {
        "colab": {
          "base_uri": "https://localhost:8080/"
        },
        "id": "K4TYgwzCkQlX",
        "outputId": "a3a5174b-e989-4db1-d396-f157b59f9ef5"
      },
      "execution_count": 14,
      "outputs": [
        {
          "output_type": "stream",
          "name": "stdout",
          "text": [
            "Input present amount: 10000\n",
            "Input interest rate (in percent): 3.5\n",
            "Input number of years: 7\n",
            "Future value of given amount is =  12722.79\n"
          ]
        }
      ]
    },
    {
      "cell_type": "markdown",
      "source": [
        "***7. Write a Python program that removes duplicate elements from a given array of numbers so that each element appears only once and returns the new length.***"
      ],
      "metadata": {
        "id": "Jxkj-kQonDC8"
      }
    },
    {
      "cell_type": "code",
      "source": [
        "import numpy as np\n",
        "\n",
        "sample_input = input(\"Input values seperated by commas (duplicates allowed): \")\n",
        "sample_list = sample_input.split(\",\")      #Here, the string is converted into list\n",
        "sample = np.array(sample_list)             #np.unique() can't directly work with list, it needs to be converted into array.\n",
        "unique = np.unique(sample)                 #we can also use list(set(sample_list)) to pick the unique values as set doesn't contain any duplicate value.\n",
        "length = len(unique)\n",
        "\n",
        "print(\"The list of unique numbers :\", unique)\n",
        "print(\"Length of the unique list :\", length)"
      ],
      "metadata": {
        "colab": {
          "base_uri": "https://localhost:8080/"
        },
        "id": "3W3v1m_OnLX1",
        "outputId": "4f453307-b213-47f4-d6c3-d575e3ab74a1"
      },
      "execution_count": 1,
      "outputs": [
        {
          "output_type": "stream",
          "name": "stdout",
          "text": [
            "Input values seperated by commas (duplicates allowed): 0,0,1,1,2,2,2,3,3,3,4,4,4,4,4\n",
            "The list of unique numbers : ['0' '1' '2' '3' '4']\n",
            "Length of the unique list : 5\n"
          ]
        }
      ]
    },
    {
      "cell_type": "markdown",
      "source": [
        "***8. Write a Python program to sort (ascending and descending) a dictionary by key value.***"
      ],
      "metadata": {
        "id": "vaEuGrltNmES"
      }
    },
    {
      "cell_type": "code",
      "source": [
        "given = { 'b': 4, 'e': 2, 'f': 5, 'a': 9}\n",
        "\n",
        "#For sorting a dictionary by key value in ascending order:  \n",
        "ascending_by_key = dict(sorted(given.items()))      #Here, ascending order means alphabetic ascending order\n",
        "\n",
        "#For sorting a dictionary by key value in discending order:\n",
        "discending_by_key = dict(sorted(given.items(), reverse = True))\n",
        "\n",
        "print(\"Given dictionary =\", given)\n",
        "print(\"Sorting given dictionary by key value in ascending order =\", ascending_by_key)\n",
        "print(\"Sorting given dictionary by key value in discending order =\", discending_by_key)\n"
      ],
      "metadata": {
        "colab": {
          "base_uri": "https://localhost:8080/"
        },
        "id": "GLadrCwWNrY6",
        "outputId": "5212775e-85aa-480a-c0b2-a3ed0d4766b8"
      },
      "execution_count": 2,
      "outputs": [
        {
          "output_type": "stream",
          "name": "stdout",
          "text": [
            "Given dictionary = {'b': 4, 'e': 2, 'f': 5, 'a': 9}\n",
            "Sorting given dictionary by key value in ascending order = {'a': 9, 'b': 4, 'e': 2, 'f': 5}\n",
            "Sorting given dictionary by key value in discending order = {'f': 5, 'e': 2, 'b': 4, 'a': 9}\n"
          ]
        }
      ]
    },
    {
      "cell_type": "markdown",
      "source": [
        "***9. Write a Python program to add key to a dictionary.***"
      ],
      "metadata": {
        "id": "LPy5onJ0WO2A"
      }
    },
    {
      "cell_type": "code",
      "source": [
        "sample = {0:10, 1:20}\n",
        "sample[2] = 30\n",
        "\n",
        "print(sample)"
      ],
      "metadata": {
        "colab": {
          "base_uri": "https://localhost:8080/"
        },
        "id": "10Enb7YsWP0h",
        "outputId": "55945041-df84-4750-c954-438523c336f9"
      },
      "execution_count": 3,
      "outputs": [
        {
          "output_type": "stream",
          "name": "stdout",
          "text": [
            "{0: 10, 1: 20, 2: 30}\n"
          ]
        }
      ]
    },
    {
      "cell_type": "markdown",
      "source": [
        "***10. Write a Pandas program to create and display a DataFrame from a specified dictionary data which has the index label***"
      ],
      "metadata": {
        "id": "kVU-sANrb1xO"
      }
    },
    {
      "cell_type": "code",
      "source": [
        "import pandas as pd\n",
        "import numpy as np     #As the dataset contains np.nan in score, we need to import numpy library. If there was no NaN value, we could avoid importing numpy.\n",
        "\n",
        "exam_data = {'name': ['Arif', 'Asir', 'Arik', 'Anis', 'Anil', 'Ashish', 'Anahi', 'Alia', 'Alvin', 'Asim'],\n",
        "             'score': [12.5, 9, 16.5, 14, 9, 20, 14.5, 18, 8, 19],\n",
        "             'attempts': [1, 3, 2, 3, 2, 3, 1, 1, 2, 1],\n",
        "             'qualify': ['yes', 'no', 'yes', 'no', 'no', 'yes', 'yes', 'no', 'no', 'yes']}\n",
        "\n",
        "labels = ['a', 'b', 'c', 'd', 'e', 'f', 'g', 'h', 'i', 'j']\n",
        "\n",
        "df = pd.DataFrame(exam_data, index = labels)           #If we didn't define the index label, it would take 0, 1, 2, .... by default.\n",
        "\n",
        "print(df)"
      ],
      "metadata": {
        "colab": {
          "base_uri": "https://localhost:8080/"
        },
        "id": "lX9ahwMSX0Mk",
        "outputId": "5c868f66-680e-40ba-c156-8d4bcaa115b4"
      },
      "execution_count": 5,
      "outputs": [
        {
          "output_type": "stream",
          "name": "stdout",
          "text": [
            "     name  score  attempts qualify\n",
            "a    Arif   12.5         1     yes\n",
            "b    Asir    9.0         3      no\n",
            "c    Arik   16.5         2     yes\n",
            "d    Anis   14.0         3      no\n",
            "e    Anil    9.0         2      no\n",
            "f  Ashish   20.0         3     yes\n",
            "g   Anahi   14.5         1     yes\n",
            "h    Alia   18.0         1      no\n",
            "i   Alvin    8.0         2      no\n",
            "j    Asim   19.0         1     yes\n"
          ]
        }
      ]
    },
    {
      "cell_type": "code",
      "source": [],
      "metadata": {
        "id": "P9UCBuobg3hE"
      },
      "execution_count": null,
      "outputs": []
    }
  ]
}